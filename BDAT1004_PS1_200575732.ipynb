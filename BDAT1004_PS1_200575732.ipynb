{
 "cells": [
  {
   "cell_type": "markdown",
   "id": "24c3f104",
   "metadata": {},
   "source": [
    "# Question 1\n",
    "What data type is each of the following (evaluate where necessary)?\n",
    "5"
   ]
  },
  {
   "cell_type": "code",
   "execution_count": 1,
   "id": "5bcf8840",
   "metadata": {},
   "outputs": [
    {
     "name": "stdout",
     "output_type": "stream",
     "text": [
      "<class 'int'>\n"
     ]
    }
   ],
   "source": [
    "x=5;\n",
    "print(type(x))\n"
   ]
  },
  {
   "cell_type": "markdown",
   "id": "a25dfbbc",
   "metadata": {},
   "source": [
    "5.0"
   ]
  },
  {
   "cell_type": "code",
   "execution_count": 8,
   "id": "06cf7d7f",
   "metadata": {},
   "outputs": [
    {
     "name": "stdout",
     "output_type": "stream",
     "text": [
      "<class 'float'>\n"
     ]
    }
   ],
   "source": [
    "x = 5.0;\n",
    "print(type(x))\n"
   ]
  },
  {
   "cell_type": "markdown",
   "id": "3fdacb91",
   "metadata": {},
   "source": [
    "5>1"
   ]
  },
  {
   "cell_type": "code",
   "execution_count": 9,
   "id": "3c3aae62",
   "metadata": {},
   "outputs": [
    {
     "name": "stdout",
     "output_type": "stream",
     "text": [
      "<class 'bool'>\n"
     ]
    }
   ],
   "source": [
    "5 > 1\n",
    "print(type(5 > 1))"
   ]
  },
  {
   "cell_type": "markdown",
   "id": "bc3665f7",
   "metadata": {},
   "source": [
    "'5'"
   ]
  },
  {
   "cell_type": "code",
   "execution_count": 10,
   "id": "ec2cac3d",
   "metadata": {},
   "outputs": [
    {
     "name": "stdout",
     "output_type": "stream",
     "text": [
      "<class 'str'>\n"
     ]
    }
   ],
   "source": [
    "x = '5';\n",
    "print (type(x))"
   ]
  },
  {
   "cell_type": "markdown",
   "id": "7897a33b",
   "metadata": {},
   "source": [
    "5*2"
   ]
  },
  {
   "cell_type": "code",
   "execution_count": 11,
   "id": "e1292c99",
   "metadata": {},
   "outputs": [
    {
     "name": "stdout",
     "output_type": "stream",
     "text": [
      "<class 'int'>\n"
     ]
    }
   ],
   "source": [
    "x = (5*2)\n",
    "print(type(x))"
   ]
  },
  {
   "cell_type": "markdown",
   "id": "624f1a2f",
   "metadata": {},
   "source": [
    "'5' + '2'"
   ]
  },
  {
   "cell_type": "code",
   "execution_count": 12,
   "id": "3b2a1801",
   "metadata": {},
   "outputs": [
    {
     "name": "stdout",
     "output_type": "stream",
     "text": [
      "<class 'str'>\n"
     ]
    }
   ],
   "source": [
    "x = '5' + '2'\n",
    "print(type(x))\n"
   ]
  },
  {
   "cell_type": "markdown",
   "id": "a204e505",
   "metadata": {},
   "source": [
    "5/2"
   ]
  },
  {
   "cell_type": "code",
   "execution_count": 13,
   "id": "f6546287",
   "metadata": {},
   "outputs": [
    {
     "name": "stdout",
     "output_type": "stream",
     "text": [
      "<class 'float'>\n"
     ]
    }
   ],
   "source": [
    "x = 5/2\n",
    "print(type(x))"
   ]
  },
  {
   "cell_type": "markdown",
   "id": "046904a1",
   "metadata": {},
   "source": [
    "5 % 2"
   ]
  },
  {
   "cell_type": "code",
   "execution_count": 14,
   "id": "3ec10d2b",
   "metadata": {},
   "outputs": [
    {
     "name": "stdout",
     "output_type": "stream",
     "text": [
      "<class 'int'>\n"
     ]
    }
   ],
   "source": [
    "x = 5 % 2 ;\n",
    "print(type(x))"
   ]
  },
  {
   "cell_type": "markdown",
   "id": "68feff43",
   "metadata": {},
   "source": [
    "{5,2,1}"
   ]
  },
  {
   "cell_type": "code",
   "execution_count": 19,
   "id": "883d66a5",
   "metadata": {},
   "outputs": [
    {
     "name": "stdout",
     "output_type": "stream",
     "text": [
      "<class 'set'>\n"
     ]
    }
   ],
   "source": [
    "x = {5,2,1}\n",
    "print(type(x))"
   ]
  },
  {
   "cell_type": "markdown",
   "id": "ada78b7f",
   "metadata": {},
   "source": [
    "(5 == 3)"
   ]
  },
  {
   "cell_type": "code",
   "execution_count": 21,
   "id": "9ce9db42",
   "metadata": {},
   "outputs": [
    {
     "name": "stdout",
     "output_type": "stream",
     "text": [
      "<class 'bool'>\n"
     ]
    }
   ],
   "source": [
    "x = (5 == 3)\n",
    "print(type(x))"
   ]
  },
  {
   "cell_type": "code",
   "execution_count": 24,
   "id": "3c0be09a",
   "metadata": {},
   "outputs": [
    {
     "name": "stdout",
     "output_type": "stream",
     "text": [
      "<class 'float'>\n"
     ]
    }
   ],
   "source": [
    "import math\n",
    "print(type(math.pi))"
   ]
  },
  {
   "cell_type": "markdown",
   "id": "8da83312",
   "metadata": {},
   "source": [
    "# question 2 a.\n",
    "Write (and evaluate) python expressions that answer these questions:\n",
    "    a. How many letters are there in 'Supercalifragilisticexpialidocious'?"
   ]
  },
  {
   "cell_type": "code",
   "execution_count": 26,
   "id": "f20febd0",
   "metadata": {},
   "outputs": [
    {
     "name": "stdout",
     "output_type": "stream",
     "text": [
      "34\n"
     ]
    }
   ],
   "source": [
    "x= 'Supercalifragilisticexpialidocious'\n",
    "print(len(x))"
   ]
  },
  {
   "cell_type": "markdown",
   "id": "c8321129",
   "metadata": {},
   "source": [
    "     b. Does 'Supercalifragilisticexpialidocious' contain 'ice' as a substring? "
   ]
  },
  {
   "cell_type": "code",
   "execution_count": 1,
   "id": "81f8f197",
   "metadata": {},
   "outputs": [
    {
     "name": "stdout",
     "output_type": "stream",
     "text": [
      "True\n"
     ]
    }
   ],
   "source": [
    "x = 'Supercalifragilisticexpialidocious'\n",
    "print('ice' in x)"
   ]
  },
  {
   "cell_type": "markdown",
   "id": "f0f8ddd1",
   "metadata": {},
   "source": [
    "Which of the following words is the longest:\n",
    "Supercalifragilisticexpialidocious, Honorificabilitudinitatibus, or\n",
    "Bababadalgharaghtakamminarronnkonn?"
   ]
  },
  {
   "cell_type": "code",
   "execution_count": 2,
   "id": "57bea789",
   "metadata": {},
   "outputs": [
    {
     "name": "stdout",
     "output_type": "stream",
     "text": [
      "The longest word is Supercalifragilisticexpialidocious\n"
     ]
    }
   ],
   "source": [
    "words = ['Supercalifragilisticexpialidocious', 'Honorificabilitudinitatibus',\n",
    "'Bababadalgharaghtakamminarronnkonn']\n",
    "longest_word = \"\"\n",
    "for x in words:\n",
    "    if (len(x) > len(longest_word)):\n",
    "        longest_word = x\n",
    "print(\"The longest word is \" + longest_word)"
   ]
  },
  {
   "cell_type": "markdown",
   "id": "232906ad",
   "metadata": {},
   "source": [
    "# Question 2 b.\n",
    "Which composer comes first in the dictionary: 'Berlioz', 'Borodin', 'Brian',\n",
    "'Bartok', 'Bellini', 'Buxtehude', 'Bernstein'. Which one comes last?"
   ]
  },
  {
   "cell_type": "code",
   "execution_count": 4,
   "id": "38b082ac",
   "metadata": {},
   "outputs": [
    {
     "name": "stdout",
     "output_type": "stream",
     "text": [
      "['Bartok', 'Bellini', 'Berlioz', 'Bernstein', 'Borodin', 'Brian', 'Buxtehude']\n"
     ]
    }
   ],
   "source": [
    "composer = ['Berlioz', 'Borodin', 'Brian',\n",
    "'Bartok', 'Bellini', 'Buxtehude', 'Bernstein']\n",
    "composer = sorted(composer)\n",
    "print(composer)"
   ]
  },
  {
   "cell_type": "markdown",
   "id": "b2e563ea",
   "metadata": {},
   "source": [
    "# Question 3\n",
    "Implement function triangleArea(a,b,c) that takes as input the lengths of the 3\n",
    "sides of a triangle and returns the area of the triangle. By Heron's formula, the area\n",
    "of a triangle with side lengths a, b, and c is\n",
    "s(s - a)(s -b)(s -c)\n",
    ", where\n",
    "s = (a+b+c)/2. "
   ]
  },
  {
   "cell_type": "code",
   "execution_count": 5,
   "id": "e4471aba",
   "metadata": {},
   "outputs": [
    {
     "name": "stdout",
     "output_type": "stream",
     "text": [
      "3.872983346207417\n"
     ]
    }
   ],
   "source": [
    "import math\n",
    "def trig_area(a,b,c):\n",
    "    s = (a+b+c)/2\n",
    "    area = math.sqrt(s*(s - a)*(s -b)*(s -c))\n",
    "    return area\n",
    "print(trig_area(4,2,4,))"
   ]
  },
  {
   "cell_type": "markdown",
   "id": "57bf24a7",
   "metadata": {},
   "source": [
    "# question 4\n",
    "Write a program in python to separate odd and even integers in separate arrays. Go\n",
    "to the editor\n",
    "Test Data :\n",
    "Input the number of elements to be stored in the array :5\n",
    "Input 5 elements in the array :\n",
    "element - 0 : 25\n",
    "element - 1 : 47\n",
    "element - 2 : 42\n",
    "element - 3 : 56\n",
    "element - 4 : 32\n",
    "Expected Output:\n",
    "The Even elements are:\n",
    "42 56 32\n",
    "The Odd elements are :\n",
    "25 47"
   ]
  },
  {
   "cell_type": "code",
   "execution_count": 6,
   "id": "0b3c8806",
   "metadata": {},
   "outputs": [
    {
     "name": "stdout",
     "output_type": "stream",
     "text": [
      "[42, 56, 32]\n",
      "[25, 47]\n"
     ]
    }
   ],
   "source": [
    "even_num = []\n",
    "odd_num = []\n",
    "numbers = [25,47,42,56,32]\n",
    "for x in numbers:\n",
    "    if (x%2 ==0):\n",
    "        even_num.append(x)\n",
    "    else:\n",
    "        odd_num.append(x)\n",
    "\n",
    "print(even_num)\n",
    "print(odd_num)"
   ]
  },
  {
   "cell_type": "markdown",
   "id": "b716c3b5",
   "metadata": {},
   "source": [
    "# question 5 a.\n",
    "Write a function inside(x,y,x1,y1,x2,y2) that returns True or False\n",
    "depending on whether the point (x,y) lies in the rectangle with lower left\n",
    "corner (x1,y1) and upper right corner (x2,y2)."
   ]
  },
  {
   "cell_type": "code",
   "execution_count": 3,
   "id": "14e0c80f",
   "metadata": {},
   "outputs": [
    {
     "name": "stdout",
     "output_type": "stream",
     "text": [
      "True\n",
      "False\n"
     ]
    }
   ],
   "source": [
    "def inside(x,y,x1,y1,x2,y2):\n",
    "    if x1 < x < x2 and y1 < y < y2:\n",
    "        return True\n",
    "    else:\n",
    "        return False\n",
    "print(inside(1,1,0,0,2,3))\n",
    "print(inside(-1,-1,0,0,2,3))\n"
   ]
  },
  {
   "cell_type": "markdown",
   "id": "06fb5270",
   "metadata": {},
   "source": [
    "# Question 5 b.\n",
    "Use function inside() from part a. to write an expression that tests whether\n",
    "the point (1,1) lies in both of the following rectangles: one with lower left\n",
    "corner (0.3, 0.5) and upper right corner (1.1, 0.7) and the other with lower\n",
    "left corner (0.5, 0.2) and upper right corner (1.1, 2). "
   ]
  },
  {
   "cell_type": "code",
   "execution_count": 40,
   "id": "d264447c",
   "metadata": {},
   "outputs": [
    {
     "name": "stdout",
     "output_type": "stream",
     "text": [
      "False\n",
      "True\n"
     ]
    }
   ],
   "source": [
    "def inside(x,y,x1,y1,x2,y2):\n",
    "    if x1 < x < x2 and y1 < y < y2:\n",
    "        return True\n",
    "    else:\n",
    "        return False\n",
    "print(inside(1,1,0.3,0.5,1.1,0.7))\n",
    "print(inside(1,1,0.5,0.2,1.1,2))\n"
   ]
  },
  {
   "cell_type": "markdown",
   "id": "79293d26",
   "metadata": {},
   "source": [
    "# Question 6\n",
    "You can turn a word into pig-Latin using the following two rules (simplified):\n",
    "• If the word starts with a consonant, move that letter to the end and append\n",
    "'ay'. For example, 'happy' becomes 'appyhay' and 'pencil' becomes 'encilpay'.\n",
    "• If the word starts with a vowel, simply append 'way' to the end of the word.\n",
    "For example, 'enter' becomes 'enterway' and 'other' becomes 'otherway' . For\n",
    "our purposes, there are 5 vowels: a, e, i, o, u (so we count y as a consonant).\n",
    "Write a function pig() that takes a word (i.e., a string) as input and returns its pigLatin form. Your function should still work if the input word contains upper case\n",
    "characters. Your output should always be lower case however. "
   ]
  },
  {
   "cell_type": "code",
   "execution_count": 19,
   "id": "390ca063",
   "metadata": {},
   "outputs": [
    {
     "name": "stdout",
     "output_type": "stream",
     "text": [
      " enter a word\n",
      "nterray\n",
      "\n",
      " enter a word\n",
      "appyyay\n"
     ]
    }
   ],
   "source": [
    "def pig(user_input):\n",
    "    word = user_input\n",
    "    char = []\n",
    "    for x in word:\n",
    "        char.append(x)\n",
    "    value = \"\"\n",
    "    X = char[0]\n",
    "    \n",
    "    if x == 'aeiouAEIOU':\n",
    "        char.append('way')\n",
    "    else:\n",
    "        char.pop(0)\n",
    "        char.append(x)\n",
    "        char.append('ay')\n",
    "        \n",
    "    for x in char:\n",
    "        value = value + x\n",
    "        \n",
    "    return value\n",
    "    \n",
    "\n",
    "\n",
    "print(\" enter a word\")\n",
    "user_value = input()\n",
    "print(pig(user_value))\n",
    "print(\"\\n enter a word\")\n",
    "user_value = input()\n",
    "print(pig(user_value))\n",
    "\n"
   ]
  },
  {
   "cell_type": "markdown",
   "id": "203b230b",
   "metadata": {},
   "source": [
    "# Question 7\n",
    "File bloodtype1.txt records blood-types of patients (A, B, AB, O or OO) at a clinic.\n",
    "Write a function bldcount() that reads the file with name name and reports (i.e.,\n",
    "prints) how many patients there are in each bloodtype."
   ]
  },
  {
   "cell_type": "code",
   "execution_count": 32,
   "id": "6b7c60f4",
   "metadata": {},
   "outputs": [
    {
     "name": "stdout",
     "output_type": "stream",
     "text": [
      " There are 15 patients with blood type A\n",
      " There are 1 patients with blood type B\n",
      " There are 13 patients with blood type AB\n",
      " There are 15 patients with blood type O\n",
      " There are 0 patients with blood type OO\n"
     ]
    }
   ],
   "source": [
    "def bldcount(contents):\n",
    "    g= open(contents,\"r\")\n",
    "    data = g.read()\n",
    "    count_dat = 0\n",
    "    split_data = data.split()\n",
    "    given_data = ['A', 'B', 'AB', 'O', 'OO']\n",
    "    for x in given_data:\n",
    "        count_dat = split_data.count(x)\n",
    "        print(\" There are {0} patients with blood type {1}\".format(count_dat,x))\n",
    "bldcount(r\"C:\\Users\\eshac\\Downloads\\bloodtype1.txt\")"
   ]
  },
  {
   "cell_type": "markdown",
   "id": "909d9648",
   "metadata": {},
   "source": [
    "# Question 8\n",
    "Write a function curconv() that takes as input:\n",
    "1. a currency represented using a string (e.g., 'JPY' for the Japanese Yen or\n",
    "'EUR' for the Euro)\n",
    "2. an amount\n",
    "and then converts and returns the amount in US dollars."
   ]
  },
  {
   "cell_type": "code",
   "execution_count": 28,
   "id": "a85cb614",
   "metadata": {},
   "outputs": [
    {
     "name": "stdout",
     "output_type": "stream",
     "text": [
      "Enter Currency\n",
      "Enter Value\n"
     ]
    },
    {
     "data": {
      "text/plain": [
       "206.90314"
      ]
     },
     "execution_count": 28,
     "metadata": {},
     "output_type": "execute_result"
    }
   ],
   "source": [
    "def curconv(currency,amount):\n",
    "    #with open(\"currencies.txt\", \"r\") \n",
    "    #data = f.read()\n",
    "    #rate = ['AUD', '1.0345157', 'Australian', 'Dollar', 'CHF', '1.0237414', 'Swiss', 'Franc', 'CNY', '0.1550176', 'Chinese', 'Yuan', 'DKK', '0.1651442', 'Danish', 'Krone', 'EUR', '1.2296544', 'Euro', 'GBP', '1.5550989', 'British', 'Pound', 'HKD', '0.1270207', 'Hong', 'Kong', 'Dollar', 'INR', '0.0177643', 'Indian', 'Rupee', 'JPY', '0.01241401', 'Japanese', 'Yen', 'MXN', '0.0751848', 'Mexican', 'Peso', 'MYR', '0.3145411', 'Malaysian', 'Ringgit', 'NOK', '0.1677063', 'Norwegian', 'Krone', 'NZD', '0.8003591', 'New', 'Zealand', 'Dollar', 'PHP', '0.0233234', 'Philippine', 'Peso', 'SEK', '0.148269', 'Swedish', 'Krona', 'SGD', '0.788871', 'Singapore', 'Dollar', 'THB', '0.0313789', 'Thai', 'Baht']\n",
    "    # get_index = rate.index(currency)\n",
    "    # conv_value = rate[get_index+1]\n",
    "    exchange_rates = {\n",
    "        'AUD': 1.0345157,\n",
    "        'CHF': 1.0237414,\n",
    "        'CNY': 0.1550176,\n",
    "        'DKK': 0.1651442,\n",
    "        'EUR': 1.2296544,\n",
    "        'GBP': 1.5550989,\n",
    "        'HKD': 0.1270207,\n",
    "        'INR': 0.0177643,\n",
    "        'JPY': 0.01241401,\n",
    "        'MXN': 0.0751848,\n",
    "        'MYR': 0.3145411,\n",
    "        'NOK': 0.1677063,\n",
    "        'NZD': 0.8003591,\n",
    "        'PHP': 0.0233234,\n",
    "        'SEK': 0.148269,\n",
    "        'SGD': 0.788871,\n",
    "        'THB': 0.0313789,\n",
    "    }\n",
    "    # convert = float(conv_value) * float(amount)\n",
    "    # print(convert)\n",
    "    if currency in exchange_rates:\n",
    "        usd_amount = amount * exchange_rates[currency]\n",
    "        return usd_amount\n",
    "    else:\n",
    "        return \"Currency code not found in exchange rates\"\n",
    "\n",
    "print(\"Enter Currency\")\n",
    "currency = input(\"Enter Currency\")\n",
    "print(\"Enter Value\")\n",
    "amount = eval(input(\"Enter Value\"))\n",
    "curconv(currency,amount)\n"
   ]
  },
  {
   "cell_type": "markdown",
   "id": "6a37dda6",
   "metadata": {},
   "source": [
    "split_rate = rates.index(currencies)\n",
    "cur_amount = rates[split_rate +1]\n",
    "convert = float(cur_amount) *float(value)\n",
    "print(convert)\n",
    "\n",
    "print(\"Enter currency\")\n",
    "currencies = input()\n",
    "print(\"Enter value\")\n",
    "value = input()\n",
    "curconv(currencies,value)"
   ]
  },
  {
   "cell_type": "markdown",
   "id": "8075c7bd",
   "metadata": {},
   "source": [
    "# Question 9"
   ]
  },
  {
   "cell_type": "markdown",
   "id": "1e5180d6",
   "metadata": {},
   "source": [
    "Trying to add incompatible variables, as in\n",
    "adding 6 + ‘a’"
   ]
  },
  {
   "cell_type": "markdown",
   "id": "e1aae574",
   "metadata": {},
   "source": [
    "unsupported operand type(s) for +: 'int' and 'str'\n"
   ]
  },
  {
   "cell_type": "markdown",
   "id": "a5ef3055",
   "metadata": {},
   "source": [
    "Referring to the 12th item of a list that has only 10\n",
    "items"
   ]
  },
  {
   "cell_type": "markdown",
   "id": "d0fd682e",
   "metadata": {},
   "source": [
    "'index out of range'"
   ]
  },
  {
   "cell_type": "markdown",
   "id": "bbdaf216",
   "metadata": {},
   "source": [
    "Using a value that is out of range for a function’s\n",
    "input, such as calling math.sqrt(-1.0)"
   ]
  },
  {
   "cell_type": "markdown",
   "id": "79070faa",
   "metadata": {},
   "source": [
    "math domain error"
   ]
  },
  {
   "cell_type": "markdown",
   "id": "a0eacbfe",
   "metadata": {},
   "source": [
    "Using an undeclared variable, such as print(x)\n",
    "when x has not been defined "
   ]
  },
  {
   "cell_type": "markdown",
   "id": "6d911ca3",
   "metadata": {},
   "source": [
    "'x' not defined"
   ]
  },
  {
   "cell_type": "markdown",
   "id": "0924b2bc",
   "metadata": {},
   "source": [
    "Trying to open a file that does not exist, such as\n",
    "mistyping the file name or looking in the wrong\n",
    "directory. "
   ]
  },
  {
   "cell_type": "markdown",
   "id": "035055b6",
   "metadata": {},
   "source": [
    "'No such file or directory'"
   ]
  },
  {
   "cell_type": "markdown",
   "id": "a18310ee",
   "metadata": {},
   "source": [
    "# Question 10\n",
    "Encryption is the process of hiding the meaning of a text by substituting letters in the\n",
    "message with other letters, according to some system. If the process is successful, no\n",
    "one but the intended recipient can understand the encrypted message. Cryptanalysis\n",
    "refers to attempts to undo the encryption, even if some details of the encryption are\n",
    "unknown (for example, if an encrypted message has been intercepted). The first step\n",
    "of cryptanalysis is often to build up a table of letter frequencies in the encrypted text.\n",
    "Assume that the string letters is already defined as\n",
    "'abcdefghijklmnopqrstuvwxyz'. Write a function called frequencies()\n",
    "that takes a string as its only parameter, and returns a list of integers, showing the\n",
    "number of times each character appears in the text. Your function may ignore any\n",
    "characters that are not in letters. "
   ]
  },
  {
   "cell_type": "code",
   "execution_count": 16,
   "id": "23724fce",
   "metadata": {},
   "outputs": [
    {
     "name": "stdout",
     "output_type": "stream",
     "text": [
      "0\n",
      "1\n",
      "0\n",
      "1\n",
      "1\n",
      "0\n",
      "2\n",
      "1\n",
      "4\n",
      "0\n",
      "0\n",
      "1\n",
      "0\n",
      "3\n",
      "3\n",
      "1\n",
      "0\n",
      "0\n",
      "1\n",
      "2\n",
      "1\n",
      "1\n",
      "0\n",
      "0\n",
      "0\n",
      "0\n"
     ]
    }
   ],
   "source": [
    "def frequencies(encryption):\n",
    "    Letters = []\n",
    "    stringletters = \"abcdefghijklmnopqrstuvwxyz\"\n",
    "    \n",
    "    for x in encryption:\n",
    "        Letters.append(x)\n",
    "    \n",
    "    for x in stringletters:\n",
    "        print(Letters.count(x))\n",
    "\n",
    "frequencies ('giving up is not in the blood')\n"
   ]
  },
  {
   "cell_type": "code",
   "execution_count": null,
   "id": "af4db848",
   "metadata": {},
   "outputs": [],
   "source": []
  }
 ],
 "metadata": {
  "kernelspec": {
   "display_name": "Python 3 (ipykernel)",
   "language": "python",
   "name": "python3"
  },
  "language_info": {
   "codemirror_mode": {
    "name": "ipython",
    "version": 3
   },
   "file_extension": ".py",
   "mimetype": "text/x-python",
   "name": "python",
   "nbconvert_exporter": "python",
   "pygments_lexer": "ipython3",
   "version": "3.11.5"
  }
 },
 "nbformat": 4,
 "nbformat_minor": 5
}
